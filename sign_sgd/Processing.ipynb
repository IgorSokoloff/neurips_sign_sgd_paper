{
 "cells": [
  {
   "cell_type": "code",
   "execution_count": 5,
   "metadata": {},
   "outputs": [],
   "source": [
    "import numpy as np\n",
    "import matplotlib.pyplot as plt\n",
    "import scipy.stats as sts\n",
    "import math\n",
    "import pandas as pd\n",
    "import matplotlib\n",
    "from matplotlib import patches\n",
    "from sympy import *\n",
    "import datetime\n",
    "from functools import reduce\n",
    "from sklearn.datasets import make_spd_matrix, make_sparse_spd_matrix\n",
    "import scipy\n",
    "\n",
    "import sys\n",
    "import os\n",
    "\n",
    "import itertools\n",
    "from scipy.special import binom\n",
    "from scipy.stats import ortho_group\n",
    "\n",
    "from sklearn.model_selection import train_test_split\n",
    "\n",
    "from sklearn.linear_model import LogisticRegression\n",
    "from sklearn.metrics import f1_score, accuracy_score\n",
    "\n",
    "import pandas as pd\n",
    "import numpy as np\n",
    "from matplotlib import pyplot as plt\n",
    "import math\n",
    "import sklearn.metrics \n",
    "from sklearn.linear_model import LogisticRegression\n",
    "from sklearn.feature_extraction import DictVectorizer as DV\n",
    "\n",
    "\n",
    "from sklearn.linear_model import LogisticRegression\n",
    "from sklearn.model_selection import GridSearchCV\n",
    "from sklearn.metrics import roc_auc_score,roc_curve\n",
    "from sklearn.preprocessing import StandardScaler\n",
    "from sklearn.model_selection import StratifiedKFold, KFold\n",
    "\n",
    "from sklearn.model_selection import train_test_split\n",
    "from sklearn.datasets import load_svmlight_file\n",
    "\n",
    "from itertools import cycle"
   ]
  },
  {
   "cell_type": "code",
   "execution_count": 2,
   "metadata": {},
   "outputs": [],
   "source": [
    "def myrepr(x):\n",
    "    return repr(round(x, 2)).replace('.',',') if isinstance(x, float) else repr(x)"
   ]
  },
  {
   "cell_type": "code",
   "execution_count": 3,
   "metadata": {},
   "outputs": [],
   "source": [
    "from logreg_functions import *\n",
    "from sigmoid_functions import *"
   ]
  },
  {
   "cell_type": "markdown",
   "metadata": {},
   "source": [
    "bash commands\n",
    "\n",
    "python3 generate_data.py --n_workers 3\n",
    "\n",
    "mpirun -n 4 python3 sign_sgd_majority.py --upd_option one-point --loss_func log-reg --step_type fix-step --max_it 100 --gamma_0 2\n",
    "\n"
   ]
  },
  {
   "cell_type": "markdown",
   "metadata": {},
   "source": [
    "firstly lets find f_min of log-reg mushrooms"
   ]
  },
  {
   "cell_type": "markdown",
   "metadata": {},
   "source": [
    "## sign_sgd_one_point_majority_log-reg_var"
   ]
  },
  {
   "cell_type": "markdown",
   "metadata": {},
   "source": [
    "load all existent data"
   ]
  },
  {
   "cell_type": "code",
   "execution_count": 8,
   "metadata": {},
   "outputs": [],
   "source": [
    "#full\n",
    "project_path = \"/Users/igorsokolov/Yandex.Disk.localized/MIPT/Science/Richtarik/signSGD/experiments/sign_sgd/\"\n",
    "experiment_name_short = \"sign_sgd\"\n",
    "experiment_name_ar = [\"sign_sgd_majority\"]\n",
    "dataset_ar = [\"mushrooms\"]\n",
    "loss_func_ar = [\"log-reg\"]\n",
    "upd_option_ar = [\"one-point\", \"two-point\"]\n",
    "step_type_ar = [\"var-step\", \"fix-step\"]\n",
    "n_workers_ar = [3]\n",
    "gamma_0_ar = [1.0, 2.0]\n",
    "batch_ar = [1]\n",
    "\n",
    "clf_coef_ar = {}\n",
    "X_train_ar = {}\n",
    "y_train_ar = {}\n",
    "la_ar = {}\n",
    "f_min_ar = {}\n",
    "info_num_ar = {}\n",
    "loss_ar = {}\n",
    "time_ar = {}\n",
    "its_ar = {}\n",
    "w_ar = {}\n",
    "label_ar = {}\n",
    "\n",
    "for experiment_name, dataset, loss_func, upd_option, step_type, n_workers, gamma_0, batch in \\\n",
    "itertools.product (experiment_name_ar, dataset_ar, loss_func_ar, upd_option_ar, step_type_ar, n_workers_ar, gamma_0_ar, batch_ar):\n",
    "    experiment = '{0}_{1}_{2}_{3}_{4}_{5}_{6}'.format(experiment_name, upd_option,loss_func, step_type, n_workers, myrepr(gamma_0), batch)\n",
    "    \n",
    "    id_str = \"{0}_{1}\".format(dataset, experiment)#####\n",
    "    id_func = \"{0}_{1}\".format(dataset, loss_func)#####\n",
    "    id_dataset = \"{0}_{1}\".format(dataset, n_workers)#####\n",
    "    id_label = \"{0}_{1}_{2}\".format(experiment_name_short, upd_option, step_type)\n",
    "    \n",
    "    logs_path = project_path + \"logs_{0}_{1}/\".format(dataset, experiment)\n",
    "    data_path = project_path + \"data_{0}_{1}/\".format(dataset, n_workers)\n",
    "        \n",
    "    if os.path.isfile(data_path + 'X.npy'):\n",
    "        X_train_ar[id_dataset] = np.load(data_path + 'X.npy')\n",
    "    if os.path.isfile(data_path + 'y.npy'):\n",
    "        y_train_ar[id_dataset] = np.load(data_path + 'y.npy')\n",
    "    \n",
    "    if os.path.isfile(data_path + 'data_info.npy'): \n",
    "        data_info = np.load(data_path + 'data_info.npy')\n",
    "        N, L = data_info[:2]\n",
    "        if os.path.isfile(data_path + \"clf_coef.npy\"):\n",
    "            clf_coef_ar[id_func] = np.load(data_path + \"clf_coef.npy\")\n",
    "            f_min_ar[id_func] = logreg_loss (clf_coef_ar[id_func], X_train_ar[id_dataset], y_train_ar[id_dataset], L)\n",
    "    \n",
    "    \n",
    "    \n",
    "    if os.path.isfile(logs_path + 'info_number' + \"_\" + experiment + \".npy\"): \n",
    "        info_num_ar[id_str]    = np.load(logs_path + 'info_number' + \"_\" + experiment + \".npy\")\n",
    "        \n",
    "    if os.path.isfile(logs_path + 'loss' + \"_\" + experiment + \".npy\"):\n",
    "        loss_ar[id_str] = np.load(logs_path + 'loss' + '_' + experiment + \".npy\")\n",
    "        \n",
    "    if os.path.isfile(logs_path + 'time' + \"_\" + experiment + \".npy\"):\n",
    "        time_ar[id_str]        = np.load(logs_path + 'time' + '_' + experiment + \".npy\")\n",
    "        \n",
    "    if os.path.isfile(logs_path + 'iteration' + \"_\" + experiment + \".npy\"):\n",
    "        its_ar[id_str] = np.load(logs_path + 'iteration' + '_' + experiment + \".npy\")\n",
    "        \n",
    "    if os.path.isfile(logs_path + 'iterates' + \"_\" + experiment + \".npy\"):\n",
    "        w_ar[id_str] = np.load(logs_path + 'iterates' + '_' + experiment + \".npy\")\n",
    "        \n",
    "    label_ar[id_label] = id_label\n",
    "    \n"
   ]
  },
  {
   "cell_type": "code",
   "execution_count": 9,
   "metadata": {},
   "outputs": [
    {
     "data": {
      "text/plain": [
       "<matplotlib.legend.Legend at 0x1a1921d940>"
      ]
     },
     "execution_count": 9,
     "metadata": {},
     "output_type": "execute_result"
    },
    {
     "data": {
      "image/png": "[encoded data removed]",
      "text/plain": [
       "<Figure size 432x288 with 1 Axes>"
      ]
     },
     "metadata": {
      "needs_background": "light"
     },
     "output_type": "display_data"
    }
   ],
   "source": [
    "experiment_name_ar = [\"sign_sgd_majority\"]\n",
    "dataset_ar = [\"mushrooms\"]\n",
    "loss_func_ar = [\"log-reg\"]\n",
    "upd_option_ar = [\"one-point\", \"two-point\"]\n",
    "step_type_ar = [\"var-step\", \"fix-step\"]\n",
    "n_workers_ar = [3]\n",
    "gamma_0_ar = [2.0]\n",
    "batch_ar = [1]\n",
    "colors = ['blue', 'aqua', 'darkorange', 'cornflowerblue', 'red']\n",
    "\n",
    "#plt.plot(its_ar[:np.argmin (loss_ar)], loss_ar[:np.argmin (loss_ar)], color=color, label=str(label_ar[0]))\n",
    "for i, (experiment_name, dataset, loss_func, upd_option, step_type, n_workers, gamma_0, batch) in \\\n",
    "enumerate(itertools.product (experiment_name_ar, dataset_ar, loss_func_ar, upd_option_ar, step_type_ar, n_workers_ar, gamma_0_ar, batch_ar)):\n",
    "    experiment = '{0}_{1}_{2}_{3}_{4}_{5}_{6}'.format(experiment_name, upd_option,loss_func, step_type, n_workers, myrepr(gamma_0), batch)\n",
    "    \n",
    "    id_str = \"{0}_{1}\".format(dataset, experiment)\n",
    "    id_func = \"{0}_{1}\".format(dataset, loss_func)\n",
    "    id_label = \"{0}_{1}_{2}\".format(experiment_name_short, upd_option, step_type)\n",
    "    id_label = \"{0}_{1}_{2}\".format(experiment_name_short, upd_option, step_type)\n",
    "    if  ((id_str in its_ar) and id_str in loss_ar):        \n",
    "        plt.plot(its_ar[id_str], loss_ar[id_str], color=colors[i], label=label_ar[id_label])\n",
    "        \n",
    "    #if ((id_str in its_ar) and id_func in f_min_ar):\n",
    "     #   plt.plot(its_ar[id_str], [f_min_ar[id_func]]*its_ar[id_str].shape[0], color='red', label=\"f_min (scipy)\")\n",
    "\n",
    "\n",
    "#print(\"f_min: {0}\".format(f_min))\n",
    "\n",
    "plt.ylabel('loss')\n",
    "plt.xlabel('iterations')\n",
    "plt.yscale('log')\n",
    "\n",
    "plt.title('{0}; {1} workers; gamma_0:{2}'.format( loss_func, n_workers, gamma_0 ))\n",
    "plt.legend(loc=\"upper right\")\n",
    "#plt.plot()"
   ]
  }
 ],
 "metadata": {
  "kernelspec": {
   "display_name": "Python 3",
   "language": "python",
   "name": "python3"
  },
  "language_info": {
   "codemirror_mode": {
    "name": "ipython",
    "version": 3
   },
   "file_extension": ".py",
   "mimetype": "text/x-python",
   "name": "python",
   "nbconvert_exporter": "python",
   "pygments_lexer": "ipython3",
   "version": "3.6.8"
  }
 },
 "nbformat": 4,
 "nbformat_minor": 2
}
