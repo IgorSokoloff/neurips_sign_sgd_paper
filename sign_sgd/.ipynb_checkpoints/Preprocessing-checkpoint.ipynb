{
 "cells": [
  {
   "cell_type": "code",
   "execution_count": 1,
   "metadata": {},
   "outputs": [],
   "source": [
    "import numpy as np\n",
    "import matplotlib.pyplot as plt\n",
    "import scipy.stats as sts\n",
    "import math\n",
    "import pandas as pd\n",
    "import matplotlib\n",
    "from matplotlib import patches\n",
    "from sympy import *\n",
    "import datetime\n",
    "from functools import reduce\n",
    "from sklearn.datasets import make_spd_matrix, make_sparse_spd_matrix\n",
    "import scipy\n",
    "\n",
    "import sys\n",
    "\n",
    "import itertools\n",
    "from scipy.special import binom\n",
    "from scipy.stats import ortho_group\n",
    "\n",
    "from sklearn.model_selection import train_test_split\n",
    "\n",
    "from sklearn.linear_model import LogisticRegression\n",
    "from sklearn.metrics import f1_score, accuracy_score\n",
    "\n",
    "import pandas as pd\n",
    "import numpy as np\n",
    "from matplotlib import pyplot as plt\n",
    "import math\n",
    "import sklearn.metrics \n",
    "from sklearn.linear_model import LogisticRegression\n",
    "from sklearn.feature_extraction import DictVectorizer as DV\n",
    "\n",
    "\n",
    "from sklearn.linear_model import LogisticRegression\n",
    "from sklearn.model_selection import GridSearchCV\n",
    "from sklearn.metrics import roc_auc_score,roc_curve\n",
    "from sklearn.preprocessing import StandardScaler\n",
    "from sklearn.model_selection import StratifiedKFold, KFold\n",
    "\n",
    "from sklearn.model_selection import train_test_split\n",
    "from sklearn.datasets import load_svmlight_file\n",
    "\n"
   ]
  },
  {
   "cell_type": "code",
   "execution_count": 2,
   "metadata": {},
   "outputs": [
    {
     "data": {
      "text/plain": [
       "['sign_sgd_one_point_majority',\n",
       " '/Users/igorsokolov/Yandex.Disk.localized/MIPT/Science/Richtarik/signSGD/experiments/sign_sgd/',\n",
       " '/Users/igorsokolov/Yandex.Disk.localized/MIPT/Science/Richtarik/signSGD/experiments/sign_sgd/logs_mushrooms/',\n",
       " 'mushrooms',\n",
       " 'log-reg']"
      ]
     },
     "execution_count": 2,
     "metadata": {},
     "output_type": "execute_result"
    }
   ],
   "source": [
    "project_path = \"/Users/igorsokolov/Yandex.Disk.localized/MIPT/Science/Richtarik/signSGD/experiments/sign_sgd/\"\n",
    "dataset = \"mushrooms\"\n",
    "logs_path = project_path + \"logs_{0}/\".format(dataset)\n",
    "\n",
    "info_str = []\n",
    "\n",
    "#load string invormation\n",
    "with open(logs_path + 'info_str.txt', 'r') as filehandle:  \n",
    "    for line in filehandle:\n",
    "        # remove linebreak which is the last character of the string\n",
    "        currentPlace = line[:-1]\n",
    "        # add item to the list\n",
    "        info_str.append(currentPlace)\n",
    "\n",
    "#load numeric invormation\n",
    "info_num = np.load(logs_path + 'info_number.npy\")\n",
    "\n",
    "experiment_name, project_path, logs_path, dataset, loss_func = info_str\n",
    "stepsize, n_workers, gamma_0, batch = info_num\n",
    "\n",
    "loss_ar = np.load(logs_path + 'loss' + '_' + experiment + \".npy\")\n",
    "loss_ar = np.load(logs_path + 'time' + '_' + experiment + \".npy\")\n",
    "w_ar = np.load(logs_path + 'iterates' + '_' + experiment + \".npy\")\n",
    "\n"
   ]
  },
  {
   "cell_type": "code",
   "execution_count": null,
   "metadata": {},
   "outputs": [],
   "source": [
    "colors = cycle(['aqua', 'darkorange', 'cornflowerblue', 'red'])\n",
    "n_classes = 4\n",
    "\n",
    "data_ar   = [y_score_log_train[:-1], y_score_tree_train[:-1], y_score_log_test[:-1], y_score_tree_test[:-1]]\n",
    "target_ar = [y_train_enc, y_train_enc, y_test_enc, y_test_enc]\n",
    "\n",
    "label_ar = [\"log_train\", \"tree_train\", \"log_test\", \"tree_test\"]\n",
    "\n",
    "n_col = 1\n",
    "n_row = 1\n",
    "f, axarr = plt.subplots(n_row, n_col, figsize=(10, 10), sharex=False, sharey=False)\n",
    "\n",
    "N = 50\n",
    "N_ar = np.arange(2, N + 1)\n",
    "\n",
    "classes_matrix = le.classes_.reshape((2,2))\n",
    "\n",
    "#accuracy_score(np.int64(y_score_log_train[0]==0), np.int64(y_train_enc==i))\n",
    "\n",
    "for i,j in itertools.product(range(n_row), range(n_col)):\n",
    "    for k, (data, target, label, color) in enumerate(zip(data_ar, target_ar,label_ar, colors)):\n",
    "        accuracy_ar = np.array([accuracy_score(np.int64(data[l]== 2*i+j), np.int64(target==2*i+j)) for l in range(N-1)])\n",
    "        axarr[i, j].plot(N_ar, accuracy_ar,\n",
    "                         color=color, label=str(label_ar[k]), )\n",
    "                         \n",
    "    axarr[i, j].set_title('Accuracy curve of class {0}'.format(classes_matrix[i,j]))\n",
    "    axarr[i, j].legend(loc=\"lower right\")\n",
    "                          \n",
    "for ax in axarr.flat:\n",
    "    ax.set(xlabel='N', ylabel='Accuracy')\n",
    "    \n",
    "# Hide x labels and tick labels for top plots and y ticks for right plots.\n",
    "#for ax in axarr.flat:\n",
    " #   ax.label_outer()\n",
    "plt.show()"
   ]
  },
  {
   "cell_type": "code",
   "execution_count": null,
   "metadata": {},
   "outputs": [],
   "source": [
    "[]"
   ]
  }
 ],
 "metadata": {
  "kernelspec": {
   "display_name": "Python 3",
   "language": "python",
   "name": "python3"
  },
  "language_info": {
   "codemirror_mode": {
    "name": "ipython",
    "version": 3
   },
   "file_extension": ".py",
   "mimetype": "text/x-python",
   "name": "python",
   "nbconvert_exporter": "python",
   "pygments_lexer": "ipython3",
   "version": "3.6.8"
  }
 },
 "nbformat": 4,
 "nbformat_minor": 2
}
