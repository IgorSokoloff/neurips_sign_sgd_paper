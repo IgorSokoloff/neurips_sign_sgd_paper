{
 "cells": [
  {
   "cell_type": "markdown",
   "metadata": {},
   "source": [
    "This is the experiment compares NSYNC, LS, and acceleretad CD in real experiment (on real datasets) \n",
    "\n",
    "with following samplings\n",
    "* $S_1$ (uniform $\\tau$-nice)\n",
    "* $S_2$\n",
    "* $S_3$\n",
    "* volume sampling\n",
    "\n",
    "\n",
    "\n",
    "Problems considered:\n",
    "* Logistic regression\n",
    "\n",
    "* SVM\n",
    "\n",
    "* \n",
    "\n",
    "Ideas:\n",
    "compares with solvers from scipy "
   ]
  },
  {
   "cell_type": "code",
   "execution_count": 10,
   "metadata": {},
   "outputs": [],
   "source": [
    "import numpy as np\n",
    "import matplotlib.pyplot as plt\n",
    "import scipy.stats as sts\n",
    "import math\n",
    "import pandas as pd\n",
    "import matplotlib\n",
    "from matplotlib import patches\n",
    "from sympy import *\n",
    "import datetime\n",
    "from functools import reduce\n",
    "from sklearn.datasets import make_spd_matrix, make_sparse_spd_matrix\n",
    "import scipy\n",
    "\n",
    "import sys\n",
    "\n",
    "import itertools\n",
    "from scipy.special import binom\n",
    "from scipy.stats import ortho_group\n",
    "\n",
    "from sklearn.model_selection import train_test_split\n",
    "\n",
    "from sklearn.linear_model import LogisticRegression\n",
    "from sklearn.metrics import f1_score, accuracy_score\n",
    "\n",
    "import pandas as pd\n",
    "import numpy as np\n",
    "from matplotlib import pyplot as plt\n",
    "import math\n",
    "import sklearn.metrics \n",
    "from sklearn.linear_model import LogisticRegression\n",
    "from sklearn.feature_extraction import DictVectorizer as DV\n",
    "\n",
    "\n",
    "from sklearn.linear_model import LogisticRegression\n",
    "from sklearn.model_selection import GridSearchCV\n",
    "from sklearn.metrics import roc_auc_score,roc_curve\n",
    "from sklearn.preprocessing import StandardScaler\n",
    "from sklearn.model_selection import StratifiedKFold, KFold\n",
    "\n",
    "from sklearn.model_selection import train_test_split\n",
    "from sklearn.datasets import load_svmlight_file\n",
    "\n",
    "\n",
    "\n",
    "%matplotlib inline"
   ]
  },
  {
   "cell_type": "markdown",
   "metadata": {},
   "source": [
    "### Two class classification\n"
   ]
  },
  {
   "cell_type": "code",
   "execution_count": 2,
   "metadata": {},
   "outputs": [
    {
     "name": "stdout",
     "output_type": "stream",
     "text": [
      "L2\n",
      "LogisticRegression(C=1.0, class_weight=None, dual=False, fit_intercept=True,\n",
      "          intercept_scaling=1, max_iter=10000, multi_class='warn',\n",
      "          n_jobs=None, penalty='l2', random_state=None, solver='saga',\n",
      "          tol=0.0001, verbose=0, warm_start=False)\n",
      "{'C': 1.0, 'solver': 'saga'}\n",
      "1.0\n"
     ]
    }
   ],
   "source": [
    "data, labels = load_svmlight_file(\"mushrooms.txt\")\n",
    "\n",
    "enc_labels = labels.copy()\n",
    "enc_labels[enc_labels==1] = -1\n",
    "enc_labels[enc_labels==2] = 1\n",
    "data_dense = data.todense()\n",
    "\n",
    "train_feature_matrix, test_feature_matrix, train_labels, test_labels =\\\n",
    "train_test_split(data, labels, test_size=0.2, random_state=0)\n",
    "                                                                                        \n",
    "\n",
    "C = np.linspace(0.01, 1, 10)\n",
    "\n",
    "param_grid_l2 = {'C': C, 'solver':['saga']}\n",
    "\n",
    "cv = StratifiedKFold( n_splits=5, shuffle=True, random_state=0)\n",
    "\n",
    "est_l2 = LogisticRegression(penalty='l2', max_iter=10000)\n",
    "\n",
    "\n",
    "opt_l2 = GridSearchCV(est_l2, param_grid_l2, scoring = 'accuracy', cv=cv)\n",
    "\n",
    "opt_l2.fit(train_feature_matrix, train_labels)\n",
    "\n",
    "\n",
    "print (\"L2\")\n",
    "print (opt_l2.best_estimator_)\n",
    "print (opt_l2.best_params_)\n",
    "print (opt_l2.best_score_)"
   ]
  },
  {
   "cell_type": "code",
   "execution_count": 3,
   "metadata": {},
   "outputs": [
    {
     "data": {
      "text/plain": [
       "1.0"
      ]
     },
     "execution_count": 3,
     "metadata": {},
     "output_type": "execute_result"
    }
   ],
   "source": [
    "opt_l2.best_params_['C']"
   ]
  },
  {
   "cell_type": "code",
   "execution_count": 4,
   "metadata": {},
   "outputs": [
    {
     "name": "stdout",
     "output_type": "stream",
     "text": [
      "Logistic regression: accuracy=1.000000 f1_score=1.000000\n"
     ]
    }
   ],
   "source": [
    "clf = LogisticRegression(penalty='l2', max_iter=10000, C=opt_l2.best_params_['C'], solver='saga')\n",
    "clf.fit(train_feature_matrix, train_labels)\n",
    "\n",
    "clf_predicted = clf.predict(test_feature_matrix)\n",
    "accuracy_score = accuracy_score(clf_predicted, test_labels)\n",
    "f1_score = f1_score(clf_predicted, test_labels)\n",
    "\n",
    "print(\"Logistic regression: accuracy={:04f} f1_score={:04f}\".format(accuracy_score, f1_score))\n",
    "\n"
   ]
  },
  {
   "cell_type": "markdown",
   "metadata": {},
   "source": [
    "$\\min_{w, c} C \\sum_{i=1}^n \\log\\left(1 + \\exp(- y_i (X_i^T w + c))\\right) + \\frac{1}{2}w^T w$\n",
    "\n",
    "$\\min_{w, c} \\sum_{i=1}^n \\log\\left(1 + \\exp(- y_i (X_i^T w + c))\\right) + \\frac{\\lambda}{2}w^T w$, \n",
    "\n",
    "where $\\lambda = \\frac{1}{C}$\n"
   ]
  },
  {
   "cell_type": "markdown",
   "metadata": {},
   "source": [
    "This function is $\\lambda$ strongly convex\n",
    "\n",
    "and $M = \\frac{1}{4}A^T A + \\lambda I$ smooth"
   ]
  },
  {
   "cell_type": "code",
   "execution_count": 126,
   "metadata": {},
   "outputs": [
    {
     "ename": "NameError",
     "evalue": "name 'os' is not defined",
     "output_type": "error",
     "traceback": [
      "\u001b[0;31m---------------------------------------------------------------------------\u001b[0m",
      "\u001b[0;31mNameError\u001b[0m                                 Traceback (most recent call last)",
      "\u001b[0;32m<ipython-input-126-aa7ca1f3282d>\u001b[0m in \u001b[0;36m<module>\u001b[0;34m\u001b[0m\n\u001b[1;32m      1\u001b[0m \u001b[0;34m\u001b[0m\u001b[0m\n\u001b[1;32m      2\u001b[0m \u001b[0mfolder_save_df\u001b[0m \u001b[0;34m=\u001b[0m \u001b[0;34m\"comparison\"\u001b[0m\u001b[0;34m\u001b[0m\u001b[0;34m\u001b[0m\u001b[0m\n\u001b[0;32m----> 3\u001b[0;31m \u001b[0;32mif\u001b[0m \u001b[0;32mnot\u001b[0m \u001b[0mos\u001b[0m\u001b[0;34m.\u001b[0m\u001b[0mpath\u001b[0m\u001b[0;34m.\u001b[0m\u001b[0mexists\u001b[0m\u001b[0;34m(\u001b[0m\u001b[0mfolder_save_df\u001b[0m\u001b[0;34m)\u001b[0m\u001b[0;34m:\u001b[0m\u001b[0;34m\u001b[0m\u001b[0;34m\u001b[0m\u001b[0m\n\u001b[0m\u001b[1;32m      4\u001b[0m     \u001b[0mos\u001b[0m\u001b[0;34m.\u001b[0m\u001b[0mmakedirs\u001b[0m\u001b[0;34m(\u001b[0m\u001b[0mfolder_save_df\u001b[0m\u001b[0;34m)\u001b[0m\u001b[0;34m\u001b[0m\u001b[0;34m\u001b[0m\u001b[0m\n\u001b[1;32m      5\u001b[0m \u001b[0;34m\u001b[0m\u001b[0m\n",
      "\u001b[0;31mNameError\u001b[0m: name 'os' is not defined"
     ]
    }
   ],
   "source": [
    "\n",
    "folder_save_df = \"comparison\"\n",
    "if not os.path.exists(folder_save_df):\n",
    "    os.makedirs(folder_save_df)\n",
    "        \n",
    "df.to_csv(folder_save_df + \"comparison_f_minus_f_star.csv\", sep='\\t')\n"
   ]
  },
  {
   "cell_type": "code",
   "execution_count": 9,
   "metadata": {},
   "outputs": [
    {
     "name": "stdout",
     "output_type": "stream",
     "text": [
      "/Users/igorsokolov/Yandex.Disk.localized/MIPT/Science/Richtarik/signSGD/experiments/sign_sgd\n"
     ]
    }
   ],
   "source": [
    "!pwd"
   ]
  },
  {
   "cell_type": "code",
   "execution_count": 5,
   "metadata": {},
   "outputs": [],
   "source": [
    "data_len = 3000\n",
    "n_workers = 3\n",
    "sep_idx = [0] + [(data_len * i) // n_workers for i in range(1, n_workers)] + [data_len]"
   ]
  },
  {
   "cell_type": "code",
   "execution_count": 6,
   "metadata": {},
   "outputs": [
    {
     "data": {
      "text/plain": [
       "[0, 1000, 2000, 3000]"
      ]
     },
     "execution_count": 6,
     "metadata": {},
     "output_type": "execute_result"
    }
   ],
   "source": [
    "sep_idx"
   ]
  },
  {
   "cell_type": "code",
   "execution_count": 7,
   "metadata": {},
   "outputs": [],
   "source": [
    "project_path = \"/Users/igorsokolov/Yandex.Disk.localized/MIPT/Science/Richtarik/signSGD/experiments/sign_sgd\"\n",
    "data_path = project_path + \"/data/\"\n",
    "data_info = np.load(data_path + 'data_info.npy')"
   ]
  },
  {
   "cell_type": "code",
   "execution_count": 8,
   "metadata": {},
   "outputs": [
    {
     "data": {
      "text/plain": [
       "array([8.12400000e+03, 1.12359551e+00, 1.12359551e+00, 1.12359551e+00,\n",
       "       1.12359551e+00])"
      ]
     },
     "execution_count": 8,
     "metadata": {},
     "output_type": "execute_result"
    }
   ],
   "source": [
    "data_info"
   ]
  },
  {
   "cell_type": "code",
   "execution_count": 43,
   "metadata": {},
   "outputs": [
    {
     "name": "stdout",
     "output_type": "stream",
     "text": [
      "[0 0 1 1 1 1 0 1 1 0]\n",
      "[0 0 1 1 1 1 0 1 1 0]\n"
     ]
    },
    {
     "data": {
      "text/plain": [
       "106"
      ]
     },
     "execution_count": 43,
     "metadata": {},
     "output_type": "execute_result"
    }
   ],
   "source": [
    "def sign(arr):\n",
    "    assert (isinstance(arr, (np.ndarray, np.generic) ))\n",
    "    arr[arr==0] = 1\n",
    "    arr = np.sign(arr)\n",
    "    arr[arr==-1] = 0\n",
    "    return arr\n",
    "\n",
    "n = 10\n",
    "a = np.random.randint(low=-10, high=10, size=n)\n",
    "\n",
    "b = sign (a)\n",
    "c = np.uint8(b)\n",
    "print (b)\n",
    "print (c)\n",
    "sys.getsizeof(c)"
   ]
  },
  {
   "cell_type": "code",
   "execution_count": 33,
   "metadata": {},
   "outputs": [],
   "source": [
    "from bitarray import * "
   ]
  },
  {
   "cell_type": "code",
   "execution_count": 45,
   "metadata": {},
   "outputs": [
    {
     "name": "stdout",
     "output_type": "stream",
     "text": [
      "[0 0 1 1 1 1 0 1 1 0]\n",
      "[False False  True  True  True  True False  True  True False]\n"
     ]
    }
   ],
   "source": [
    "c_bool = c.astype(dtype=bool)\n",
    "print (c)\n",
    "print (c_bool)\n"
   ]
  },
  {
   "cell_type": "code",
   "execution_count": 41,
   "metadata": {},
   "outputs": [
    {
     "data": {
      "text/plain": [
       "96"
      ]
     },
     "execution_count": 41,
     "metadata": {},
     "output_type": "execute_result"
    }
   ],
   "source": [
    "bit_c = bitarray([False, True, True, True])\n",
    "sys.getsizeof(bit_c)"
   ]
  },
  {
   "cell_type": "code",
   "execution_count": 53,
   "metadata": {},
   "outputs": [
    {
     "data": {
      "text/plain": [
       "array([0, 1, 0, 1, 0, 1, 0, 1, 0, 1])"
      ]
     },
     "execution_count": 53,
     "metadata": {},
     "output_type": "execute_result"
    }
   ],
   "source": [
    "np.random.shuffle (  )np.array([0,1]*int(n/2))"
   ]
  },
  {
   "cell_type": "code",
   "execution_count": 67,
   "metadata": {},
   "outputs": [
    {
     "data": {
      "text/plain": [
       "array([[False, False, False, False, False,  True,  True,  True,  True,\n",
       "         True],\n",
       "       [ True,  True,  True,  True,  True,  True,  True,  True,  True,\n",
       "         True],\n",
       "       [ True,  True,  True,  True,  True,  True,  True,  True,  True,\n",
       "         True],\n",
       "       [ True,  True,  True,  True,  True,  True,  True,  True,  True,\n",
       "         True]])"
      ]
     },
     "execution_count": 67,
     "metadata": {},
     "output_type": "execute_result"
    }
   ],
   "source": [
    "n = 10\n",
    "size = 4\n",
    "np.empty([size, n], dtype=bool)"
   ]
  },
  {
   "cell_type": "code",
   "execution_count": 76,
   "metadata": {},
   "outputs": [
    {
     "data": {
      "text/plain": [
       "2"
      ]
     },
     "execution_count": 76,
     "metadata": {},
     "output_type": "execute_result"
    }
   ],
   "source": [
    "np.dtype('int16').itemsize"
   ]
  },
  {
   "cell_type": "code",
   "execution_count": 77,
   "metadata": {},
   "outputs": [
    {
     "name": "stdout",
     "output_type": "stream",
     "text": [
      "r \n",
      " t\n"
     ]
    }
   ],
   "source": [
    "print (\"r \\n t\")"
   ]
  },
  {
   "cell_type": "code",
   "execution_count": null,
   "metadata": {},
   "outputs": [],
   "source": []
  }
 ],
 "metadata": {
  "kernelspec": {
   "display_name": "Python 3",
   "language": "python",
   "name": "python3"
  },
  "language_info": {
   "codemirror_mode": {
    "name": "ipython",
    "version": 3
   },
   "file_extension": ".py",
   "mimetype": "text/x-python",
   "name": "python",
   "nbconvert_exporter": "python",
   "pygments_lexer": "ipython3",
   "version": "3.6.8"
  }
 },
 "nbformat": 4,
 "nbformat_minor": 2
}
