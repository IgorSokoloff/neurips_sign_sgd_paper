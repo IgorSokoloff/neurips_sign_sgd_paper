{
 "cells": [
  {
   "cell_type": "code",
   "execution_count": 14,
   "metadata": {},
   "outputs": [],
   "source": [
    "import numpy as np\n",
    "import matplotlib.pyplot as plt\n",
    "import scipy.stats as sts\n",
    "import math\n",
    "import pandas as pd\n",
    "import matplotlib\n",
    "from matplotlib import patches\n",
    "from sympy import *\n",
    "import datetime\n",
    "from functools import reduce\n",
    "from sklearn.datasets import make_spd_matrix, make_sparse_spd_matrix\n",
    "import scipy\n",
    "\n",
    "import sys\n",
    "\n",
    "import itertools\n",
    "from scipy.special import binom\n",
    "from scipy.stats import ortho_group\n",
    "\n",
    "from sklearn.model_selection import train_test_split\n",
    "\n",
    "from sklearn.linear_model import LogisticRegression\n",
    "from sklearn.metrics import f1_score, accuracy_score\n",
    "\n",
    "import pandas as pd\n",
    "import numpy as np\n",
    "from matplotlib import pyplot as plt\n",
    "import math\n",
    "import sklearn.metrics \n",
    "from sklearn.linear_model import LogisticRegression\n",
    "from sklearn.feature_extraction import DictVectorizer as DV\n",
    "\n",
    "\n",
    "from sklearn.linear_model import LogisticRegression\n",
    "from sklearn.model_selection import GridSearchCV\n",
    "from sklearn.metrics import roc_auc_score,roc_curve\n",
    "from sklearn.preprocessing import StandardScaler\n",
    "from sklearn.model_selection import StratifiedKFold, KFold\n",
    "\n",
    "from sklearn.model_selection import train_test_split\n",
    "from sklearn.datasets import load_svmlight_file\n",
    "\n",
    "from itertools import cycle"
   ]
  },
  {
   "cell_type": "code",
   "execution_count": 51,
   "metadata": {},
   "outputs": [],
   "source": [
    "def myrepr(x):\n",
    "    return repr(round(x, 2)).replace('.',',') if isinstance(x, float) else repr(x)"
   ]
  },
  {
   "cell_type": "code",
   "execution_count": 60,
   "metadata": {},
   "outputs": [],
   "source": [
    "from logreg_functions import *\n",
    "from sigmoid_functions import *"
   ]
  },
  {
   "cell_type": "markdown",
   "metadata": {},
   "source": [
    "bash commands\n",
    "\n",
    "python3 generate_data.py --n_workers 3\n",
    "\n",
    "mpirun -n 4 python3 sign_sgd_majority.py --upd_option one-point --loss_func log-reg --step_type var-step --max_it 2 --gamma_0 1\n",
    "\n"
   ]
  },
  {
   "cell_type": "markdown",
   "metadata": {},
   "source": [
    "firstly lets find f_min of log-reg mushrooms"
   ]
  },
  {
   "cell_type": "markdown",
   "metadata": {},
   "source": [
    "## sign_sgd_one_point_majority_log-reg_var"
   ]
  },
  {
   "cell_type": "markdown",
   "metadata": {},
   "source": [
    "download all existent data"
   ]
  },
  {
   "cell_type": "code",
   "execution_count": 104,
   "metadata": {},
   "outputs": [],
   "source": [
    "#full\n",
    "project_path = \"/Users/igorsokolov/Yandex.Disk.localized/MIPT/Science/Richtarik/signSGD/experiments/sign_sgd/\"\n",
    "experiment_name_short = \"sign_sgd\"\n",
    "experiment_name_ar = [\"sign_sgd_majority\"]\n",
    "dataset_ar = [\"mushrooms\"]\n",
    "loss_func_ar = [\"log-reg\"]\n",
    "upd_option_ar = [\"one-point\", \"two-point\"]\n",
    "step_type_ar = [\"var-step\", \"fix-step\"]\n",
    "n_workers_ar = [3]\n",
    "gamma_0_ar = [1.0]\n",
    "batch_ar = [1]\n",
    "\n",
    "clf_coef_ar = {}\n",
    "X_train_ar = {}\n",
    "y_train_ar = {}\n",
    "la_ar = {}\n",
    "f_min_ar = {}\n",
    "info_num_ar = {}\n",
    "loss_ar = {}\n",
    "time_ar = {}\n",
    "its_ar = {}\n",
    "w_ar = {}\n",
    "label_ar = {}\n",
    "\n",
    "for experiment_name, dataset, loss_func, upd_option, step_type, n_workers, gamma_0, batch in \\\n",
    "itertools.product (experiment_name_ar, dataset_ar, loss_func_ar, upd_option_ar, step_type_ar, n_workers_ar, gamma_0_ar, batch_ar):\n",
    "    experiment = '{0}_{1}_{2}_{3}_{4}_{5}_{6}'.format(experiment_name, upd_option,loss_func, step_type, n_workers, myrepr(gamma_0), batch)\n",
    "    \n",
    "    \n",
    "    \n",
    "    id_str = \"{0}_{1}\".format(dataset, experiment)#####\n",
    "    id_func = \"{0}_{1}\".format(dataset, loss_func)#####\n",
    "    id_dataset = \"{0}_{1}\".format(dataset, n_workers)#####\n",
    "    id_label = \"{0}_{1}_{2}\".format(experiment_name_short, upd_option, step_type)\n",
    "    \n",
    "    logs_path = project_path + \"logs_{0}_{1}/\".format(dataset, experiment)\n",
    "    data_path = project_path + \"data_{0}_{1}/\".format(dataset, n_workers)\n",
    "        \n",
    "    if os.path.isfile(data_path + 'X.npy'):\n",
    "        X_train_ar[id_dataset] = np.load(data_path + 'X.npy')\n",
    "    if os.path.isfile(data_path + 'y.npy'):\n",
    "        y_train_ar[id_dataset] = np.load(data_path + 'y.npy')\n",
    "    \n",
    "    if os.path.isfile(data_path + 'data_info.npy'): \n",
    "        data_info = np.load(data_path + 'data_info.npy')\n",
    "        N, L = data_info[:2]\n",
    "        if os.path.isfile(data_path + \"clf_coef.npy\"):\n",
    "            clf_coef_ar[id_func] = np.load(data_path + \"clf_coef.npy\")\n",
    "            f_min_ar[id_func] = logreg_loss (clf_coef, X_train, y_train, L)\n",
    "    \n",
    "    \n",
    "    \n",
    "    if os.path.isfile(logs_path + 'info_number' + \"_\" + experiment + \".npy\"): \n",
    "        info_num_ar[id_str]    = np.load(logs_path + 'info_number' + \"_\" + experiment + \".npy\")\n",
    "        \n",
    "    if os.path.isfile(logs_path + 'loss' + \"_\" + experiment + \".npy\"):\n",
    "        loss_ar[id_str] = np.load(logs_path + 'loss' + '_' + experiment + \".npy\")\n",
    "        \n",
    "    if os.path.isfile(logs_path + 'time' + \"_\" + experiment + \".npy\"):\n",
    "        time_ar[id_str]        = np.load(logs_path + 'time' + '_' + experiment + \".npy\")\n",
    "        \n",
    "    if os.path.isfile(logs_path + 'iteration' + \"_\" + experiment + \".npy\"):\n",
    "        its_ar[id_str] = np.load(logs_path + 'iteration' + '_' + experiment + \".npy\")\n",
    "        \n",
    "    if os.path.isfile(logs_path + 'iterates' + \"_\" + experiment + \".npy\"):\n",
    "        w_ar[id_str] = np.load(logs_path + 'iterates' + '_' + experiment + \".npy\")\n",
    "        \n",
    "    label_ar[id_label] = id_label"
   ]
  },
  {
   "cell_type": "code",
   "execution_count": 107,
   "metadata": {},
   "outputs": [
    {
     "data": {
      "text/plain": [
       "{'mushrooms_sign_sgd_majority_one-point_log-reg_var-step_3_1,0_1': array([  0,   1,   2,   3,   4,   5,   6,   7,   8,   9,  10,  11,  12,\n",
       "         13,  14,  15,  16,  17,  18,  19,  20,  21,  22,  23,  24,  25,\n",
       "         26,  27,  28,  29,  30,  31,  32,  33,  34,  35,  36,  37,  38,\n",
       "         39,  40,  41,  42,  43,  44,  45,  46,  47,  48,  49,  50,  51,\n",
       "         52,  53,  54,  55,  56,  57,  58,  59,  60,  61,  62,  63,  64,\n",
       "         65,  66,  67,  68,  69,  70,  71,  72,  73,  74,  75,  76,  77,\n",
       "         78,  79,  80,  81,  82,  83,  84,  85,  86,  87,  88,  89,  90,\n",
       "         91,  92,  93,  94,  95,  96,  97,  98,  99, 100]),\n",
       " 'mushrooms_sign_sgd_majority_one-point_log-reg_fix-step_3_1,0_1': array([  0,   1,   2,   3,   4,   5,   6,   7,   8,   9,  10,  11,  12,\n",
       "         13,  14,  15,  16,  17,  18,  19,  20,  21,  22,  23,  24,  25,\n",
       "         26,  27,  28,  29,  30,  31,  32,  33,  34,  35,  36,  37,  38,\n",
       "         39,  40,  41,  42,  43,  44,  45,  46,  47,  48,  49,  50,  51,\n",
       "         52,  53,  54,  55,  56,  57,  58,  59,  60,  61,  62,  63,  64,\n",
       "         65,  66,  67,  68,  69,  70,  71,  72,  73,  74,  75,  76,  77,\n",
       "         78,  79,  80,  81,  82,  83,  84,  85,  86,  87,  88,  89,  90,\n",
       "         91,  92,  93,  94,  95,  96,  97,  98,  99, 100])}"
      ]
     },
     "execution_count": 107,
     "metadata": {},
     "output_type": "execute_result"
    }
   ],
   "source": [
    "its_ar"
   ]
  },
  {
   "cell_type": "code",
   "execution_count": 109,
   "metadata": {},
   "outputs": [
    {
     "ename": "KeyError",
     "evalue": "'mushrooms_sign_sgd_majority_two-point_log-reg_var-step_3_1,0_1'",
     "output_type": "error",
     "traceback": [
      "\u001b[0;31m---------------------------------------------------------------------------\u001b[0m",
      "\u001b[0;31mKeyError\u001b[0m                                  Traceback (most recent call last)",
      "\u001b[0;32m<ipython-input-109-8bd8833c28ed>\u001b[0m in \u001b[0;36m<module>\u001b[0;34m\u001b[0m\n\u001b[1;32m     11\u001b[0m     \u001b[0mid_label\u001b[0m \u001b[0;34m=\u001b[0m \u001b[0;34m\"{0}_{1}_{2}\"\u001b[0m\u001b[0;34m.\u001b[0m\u001b[0mformat\u001b[0m\u001b[0;34m(\u001b[0m\u001b[0mexperiment_name_short\u001b[0m\u001b[0;34m,\u001b[0m \u001b[0mupd_option\u001b[0m\u001b[0;34m,\u001b[0m \u001b[0mstep_type\u001b[0m\u001b[0;34m)\u001b[0m\u001b[0;34m\u001b[0m\u001b[0;34m\u001b[0m\u001b[0m\n\u001b[1;32m     12\u001b[0m \u001b[0;34m\u001b[0m\u001b[0m\n\u001b[0;32m---> 13\u001b[0;31m     \u001b[0mplt\u001b[0m\u001b[0;34m.\u001b[0m\u001b[0mplot\u001b[0m\u001b[0;34m(\u001b[0m\u001b[0mits_ar\u001b[0m\u001b[0;34m[\u001b[0m\u001b[0mid_str\u001b[0m\u001b[0;34m]\u001b[0m\u001b[0;34m,\u001b[0m \u001b[0mloss_ar\u001b[0m\u001b[0;34m[\u001b[0m\u001b[0mid_str\u001b[0m\u001b[0;34m]\u001b[0m\u001b[0;34m,\u001b[0m \u001b[0mcolor\u001b[0m\u001b[0;34m=\u001b[0m\u001b[0mcolors\u001b[0m\u001b[0;34m[\u001b[0m\u001b[0mi\u001b[0m\u001b[0;34m]\u001b[0m\u001b[0;34m,\u001b[0m \u001b[0mlabel\u001b[0m\u001b[0;34m=\u001b[0m\u001b[0mlabel_ar\u001b[0m\u001b[0;34m[\u001b[0m\u001b[0mid_label\u001b[0m\u001b[0;34m]\u001b[0m\u001b[0;34m)\u001b[0m\u001b[0;34m\u001b[0m\u001b[0;34m\u001b[0m\u001b[0m\n\u001b[0m\u001b[1;32m     14\u001b[0m \u001b[0;34m\u001b[0m\u001b[0m\n\u001b[1;32m     15\u001b[0m \u001b[0;31m#plt.plot(its_ar, [f_min]*its_ar.shape[0], color='red', label=\"f_min\")\u001b[0m\u001b[0;34m\u001b[0m\u001b[0;34m\u001b[0m\u001b[0;34m\u001b[0m\u001b[0m\n",
      "\u001b[0;31mKeyError\u001b[0m: 'mushrooms_sign_sgd_majority_two-point_log-reg_var-step_3_1,0_1'"
     ]
    },
    {
     "data": {
      "image/png": "[encoded data removed]",
      "text/plain": [
       "<Figure size 432x288 with 1 Axes>"
      ]
     },
     "metadata": {
      "needs_background": "light"
     },
     "output_type": "display_data"
    }
   ],
   "source": [
    "colors = ['blue', 'aqua', 'darkorange', 'cornflowerblue', 'red']\n",
    "\n",
    "#plt.plot(its_ar[:np.argmin (loss_ar)], loss_ar[:np.argmin (loss_ar)], color=color, label=str(label_ar[0]))\n",
    "for i, (experiment_name, dataset, loss_func, upd_option, step_type, n_workers, gamma_0, batch) in \\\n",
    "enumerate(itertools.product (experiment_name_ar, dataset_ar, loss_func_ar, upd_option_ar, step_type_ar, n_workers_ar, gamma_0_ar, batch_ar)):\n",
    "    experiment = '{0}_{1}_{2}_{3}_{4}_{5}_{6}'.format(experiment_name, upd_option,loss_func, step_type, n_workers, myrepr(gamma_0), batch)\n",
    "    \n",
    "    id_str = \"{0}_{1}\".format(dataset, experiment)\n",
    "    id_func = \"{0}_{1}\".format(dataset, loss_func)\n",
    "    id_label = \"{0}_{1}_{2}\".format(experiment_name_short, upd_option, step_type)\n",
    "    id_label = \"{0}_{1}_{2}\".format(experiment_name_short, upd_option, step_type)\n",
    "    \n",
    "    plt.plot(its_ar[id_str], loss_ar[id_str], color=colors[i], label=label_ar[id_label])\n",
    "    \n",
    "#plt.plot(its_ar, [f_min]*its_ar.shape[0], color='red', label=\"f_min\")\n",
    "\n",
    "\n",
    "#print(\"f_min: {0}\".format(f_min))\n",
    "\n",
    "plt.ylabel('loss')\n",
    "plt.xlabel('iterations')\n",
    "\n",
    "plt.title('{0} n-workers :{1} gamma_0:{2}'.format( loss_func, n_workers, gamma_0 ))\n",
    "plt.legend(loc=\"upper right\")\n",
    "#plt.plot()"
   ]
  },
  {
   "cell_type": "code",
   "execution_count": 86,
   "metadata": {},
   "outputs": [
    {
     "name": "stdout",
     "output_type": "stream",
     "text": [
      "lol\n"
     ]
    }
   ],
   "source": [
    "if 1 not in [0,2]: \n",
    "    print(\"lol\") "
   ]
  },
  {
   "cell_type": "code",
   "execution_count": 30,
   "metadata": {},
   "outputs": [
    {
     "data": {
      "text/plain": [
       "[]"
      ]
     },
     "execution_count": 30,
     "metadata": {},
     "output_type": "execute_result"
    },
    {
     "data": {
      "image/png": "[encoded data removed]",
      "text/plain": [
       "<Figure size 432x288 with 1 Axes>"
      ]
     },
     "metadata": {
      "needs_background": "light"
     },
     "output_type": "display_data"
    }
   ],
   "source": [
    "colors = cycle(['blue', 'aqua', 'darkorange', 'cornflowerblue', 'red'])\n",
    "\n",
    "x_ar   = [its_ar]\n",
    "y_ar = [loss_ar]\n",
    "\n",
    "label_ar = [\"sign sgd one point majority vote\"]\n",
    "marker_ar = [\"o-\"]\n",
    "\n",
    "plt.plot(x_ar[0], y_ar[0],  marker_ar[0], color=color, label=str(label_ar[0]))\n",
    "\n",
    "plt.ylabel('loss')\n",
    "plt.xlabel('iterations')\n",
    "plt.title('{0}_{1} n-workers :{2} gamma_0:{3}'.format( loss_func, stepsize, n_workers, gamma_0 ))\n",
    "plt.legend(loc=\"lower right\")\n",
    "plt.plot()\n",
    "\n",
    "    \n"
   ]
  },
  {
   "cell_type": "code",
   "execution_count": 15,
   "metadata": {},
   "outputs": [
    {
     "ename": "TypeError",
     "evalue": "'AxesSubplot' object is not subscriptable",
     "output_type": "error",
     "traceback": [
      "\u001b[0;31m---------------------------------------------------------------------------\u001b[0m",
      "\u001b[0;31mTypeError\u001b[0m                                 Traceback (most recent call last)",
      "\u001b[0;32m<ipython-input-15-a23433f7be82>\u001b[0m in \u001b[0;36m<module>\u001b[0;34m\u001b[0m\n\u001b[1;32m     13\u001b[0m \u001b[0;32mfor\u001b[0m \u001b[0mi\u001b[0m\u001b[0;34m,\u001b[0m\u001b[0mj\u001b[0m \u001b[0;32min\u001b[0m \u001b[0mitertools\u001b[0m\u001b[0;34m.\u001b[0m\u001b[0mproduct\u001b[0m\u001b[0;34m(\u001b[0m\u001b[0mrange\u001b[0m\u001b[0;34m(\u001b[0m\u001b[0mn_row\u001b[0m\u001b[0;34m)\u001b[0m\u001b[0;34m,\u001b[0m \u001b[0mrange\u001b[0m\u001b[0;34m(\u001b[0m\u001b[0mn_col\u001b[0m\u001b[0;34m)\u001b[0m\u001b[0;34m)\u001b[0m\u001b[0;34m:\u001b[0m\u001b[0;34m\u001b[0m\u001b[0;34m\u001b[0m\u001b[0m\n\u001b[1;32m     14\u001b[0m     \u001b[0;32mfor\u001b[0m \u001b[0mk\u001b[0m\u001b[0;34m,\u001b[0m \u001b[0;34m(\u001b[0m\u001b[0mx\u001b[0m\u001b[0;34m,\u001b[0m \u001b[0my\u001b[0m\u001b[0;34m,\u001b[0m \u001b[0mlabel\u001b[0m\u001b[0;34m,\u001b[0m \u001b[0mcolor\u001b[0m\u001b[0;34m,\u001b[0m \u001b[0mmarker\u001b[0m\u001b[0;34m)\u001b[0m \u001b[0;32min\u001b[0m \u001b[0menumerate\u001b[0m\u001b[0;34m(\u001b[0m\u001b[0mzip\u001b[0m\u001b[0;34m(\u001b[0m\u001b[0mx_ar\u001b[0m\u001b[0;34m,\u001b[0m \u001b[0my_ar\u001b[0m\u001b[0;34m,\u001b[0m \u001b[0mlabel_ar\u001b[0m\u001b[0;34m,\u001b[0m \u001b[0mcolors\u001b[0m\u001b[0;34m,\u001b[0m \u001b[0mmarker_ar\u001b[0m\u001b[0;34m)\u001b[0m\u001b[0;34m)\u001b[0m\u001b[0;34m:\u001b[0m\u001b[0;34m\u001b[0m\u001b[0;34m\u001b[0m\u001b[0m\n\u001b[0;32m---> 15\u001b[0;31m         \u001b[0maxarr\u001b[0m\u001b[0;34m[\u001b[0m\u001b[0mi\u001b[0m\u001b[0;34m,\u001b[0m \u001b[0mj\u001b[0m\u001b[0;34m]\u001b[0m\u001b[0;34m.\u001b[0m\u001b[0mplot\u001b[0m\u001b[0;34m(\u001b[0m\u001b[0mx\u001b[0m\u001b[0;34m,\u001b[0m \u001b[0my\u001b[0m\u001b[0;34m,\u001b[0m \u001b[0mcolor\u001b[0m\u001b[0;34m=\u001b[0m\u001b[0mcolor\u001b[0m\u001b[0;34m,\u001b[0m \u001b[0mmarker\u001b[0m\u001b[0;34m=\u001b[0m\u001b[0mmarker\u001b[0m\u001b[0;34m,\u001b[0m \u001b[0mlabel\u001b[0m\u001b[0;34m=\u001b[0m\u001b[0mstr\u001b[0m\u001b[0;34m(\u001b[0m\u001b[0mlabel_ar\u001b[0m\u001b[0;34m[\u001b[0m\u001b[0mk\u001b[0m\u001b[0;34m]\u001b[0m\u001b[0;34m)\u001b[0m\u001b[0;34m)\u001b[0m\u001b[0;34m\u001b[0m\u001b[0;34m\u001b[0m\u001b[0m\n\u001b[0m\u001b[1;32m     16\u001b[0m \u001b[0;34m\u001b[0m\u001b[0m\n\u001b[1;32m     17\u001b[0m     \u001b[0maxarr\u001b[0m\u001b[0;34m[\u001b[0m\u001b[0mi\u001b[0m\u001b[0;34m,\u001b[0m \u001b[0mj\u001b[0m\u001b[0;34m]\u001b[0m\u001b[0;34m.\u001b[0m\u001b[0mset_title\u001b[0m\u001b[0;34m(\u001b[0m\u001b[0;34m'{0}_{1} n-workers :{2} gamma_0:{3}'\u001b[0m\u001b[0;34m.\u001b[0m\u001b[0mformat\u001b[0m\u001b[0;34m(\u001b[0m \u001b[0mloss_func\u001b[0m\u001b[0;34m,\u001b[0m \u001b[0mstepsize\u001b[0m\u001b[0;34m,\u001b[0m \u001b[0mn_workers\u001b[0m\u001b[0;34m,\u001b[0m \u001b[0mgamma_0\u001b[0m \u001b[0;34m)\u001b[0m\u001b[0;34m)\u001b[0m\u001b[0;34m\u001b[0m\u001b[0;34m\u001b[0m\u001b[0m\n",
      "\u001b[0;31mTypeError\u001b[0m: 'AxesSubplot' object is not subscriptable"
     ]
    },
    {
     "data": {
      "image/png": "[encoded data removed]",
      "text/plain": [
       "<Figure size 720x720 with 1 Axes>"
      ]
     },
     "metadata": {
      "needs_background": "light"
     },
     "output_type": "display_data"
    }
   ],
   "source": [
    "colors = cycle(['aqua', 'darkorange', 'cornflowerblue', 'red'])\n",
    "\n",
    "x_ar   = [its_ar]\n",
    "y_ar = [loss_ar]\n",
    "\n",
    "label_ar = [\"sign sgd one point majority vote\"]\n",
    "marker_ar = [\"o-\"]\n",
    "\n",
    "n_col = 1\n",
    "n_row = 1\n",
    "f, axarr = plt.subplots(n_row, n_col, figsize=(10, 10), sharex=False, sharey=False)\n",
    "\n",
    "for i,j in itertools.product(range(n_row), range(n_col)):\n",
    "    for k, (x, y, label, color, marker) in enumerate(zip(x_ar, y_ar, label_ar, colors, marker_ar)):\n",
    "        axarr[i, j].plot(x, y, color=color, marker=marker, label=str(label_ar[k]))\n",
    "                         \n",
    "    axarr[i, j].set_title('{0}_{1} n-workers :{2} gamma_0:{3}'.format( loss_func, stepsize, n_workers, gamma_0 ))\n",
    "    axarr[i, j].legend(loc=\"lower right\")\n",
    "                          \n",
    "for ax in axarr.flat:\n",
    "    ax.set(xlabel='iterations', ylabel='loss')\n",
    "\n",
    "plt.show()"
   ]
  },
  {
   "cell_type": "code",
   "execution_count": 42,
   "metadata": {},
   "outputs": [
    {
     "data": {
      "text/plain": [
       "str"
      ]
     },
     "execution_count": 42,
     "metadata": {},
     "output_type": "execute_result"
    }
   ],
   "source": [
    "type(\"mushrooms\")"
   ]
  },
  {
   "cell_type": "code",
   "execution_count": null,
   "metadata": {},
   "outputs": [],
   "source": []
  }
 ],
 "metadata": {
  "kernelspec": {
   "display_name": "Python 3",
   "language": "python",
   "name": "python3"
  },
  "language_info": {
   "codemirror_mode": {
    "name": "ipython",
    "version": 3
   },
   "file_extension": ".py",
   "mimetype": "text/x-python",
   "name": "python",
   "nbconvert_exporter": "python",
   "pygments_lexer": "ipython3",
   "version": "3.6.8"
  }
 },
 "nbformat": 4,
 "nbformat_minor": 2
}
